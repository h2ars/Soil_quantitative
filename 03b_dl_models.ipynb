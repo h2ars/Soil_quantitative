{
 "cells": [
  {
   "cell_type": "markdown",
   "metadata": {
    "jp-MarkdownHeadingCollapsed": true,
    "tags": []
   },
   "source": [
    "## Setup"
   ]
  },
  {
   "cell_type": "code",
   "execution_count": 1,
   "metadata": {},
   "outputs": [
    {
     "name": "stderr",
     "output_type": "stream",
     "text": [
      "c:\\Users\\harsh\\mambaforge\\lib\\site-packages\\tensorflow_addons\\utils\\ensure_tf_install.py:53: UserWarning: Tensorflow Addons supports using Python ops for all Tensorflow versions above or equal to 2.8.0 and strictly below 2.11.0 (nightly versions are not supported). \n",
      " The versions of TensorFlow you are currently using is 2.11.0 and is not supported. \n",
      "Some things might work, some things might not.\n",
      "If you were to encounter a bug, do not file an issue.\n",
      "If you want to make sure you're using a tested and supported configuration, either change the TensorFlow version or the TensorFlow Addons's version. \n",
      "You can find the compatibility matrix in TensorFlow Addon's readme:\n",
      "https://github.com/tensorflow/addons\n",
      "  warnings.warn(\n"
     ]
    }
   ],
   "source": [
    "import matplotlib.pyplot as plt\n",
    "import numpy as np\n",
    "import tensorflow as tf\n",
    "import tensorflow_addons as tfa\n",
    "from sklearn.metrics import mean_squared_error, r2_score\n",
    "from sklearn.model_selection import train_test_split"
   ]
  },
  {
   "cell_type": "code",
   "execution_count": 2,
   "metadata": {},
   "outputs": [],
   "source": [
    "import warnings\n",
    "import logging\n",
    "\n",
    "logging.getLogger(\"tensorflow\").setLevel(logging.ERROR)\n",
    "warnings.filterwarnings('ignore')\n",
    "\n",
    "# %config IPCompleter.use_jedi = False\n",
    "%matplotlib inline\n",
    "\n",
    "np.set_printoptions(precision=2, suppress=True)\n",
    "plt.style.use(\"ggplot\")"
   ]
  },
  {
   "cell_type": "code",
   "execution_count": 3,
   "metadata": {},
   "outputs": [],
   "source": [
    "SEED = 2020_2024\n",
    "\n",
    "np.random.seed(SEED)\n",
    "tf.random.set_seed(SEED)\n"
   ]
  },
  {
   "cell_type": "markdown",
   "metadata": {
    "jp-MarkdownHeadingCollapsed": true,
    "tags": []
   },
   "source": [
    "## Loading Data"
   ]
  },
  {
   "cell_type": "code",
   "execution_count": 4,
   "metadata": {},
   "outputs": [],
   "source": [
    "X_data, X_sg,X_pca, y_data = np.load(\"combined_data.npz\").values()"
   ]
  },
  {
   "cell_type": "code",
   "execution_count": 5,
   "metadata": {},
   "outputs": [],
   "source": [
    "X_columns = [f\"W{x}\" for x in np.arange(350, 2501, 10)]\n",
    "y_columns = [\"PHH2O\", \"PHKCL\", \"CA\", \"MG\", \"NA\", \"K\", \"CLAY\", \"ORGC\"]\n"
   ]
  },
  {
   "cell_type": "code",
   "execution_count": 6,
   "metadata": {},
   "outputs": [],
   "source": [
    "X_train_orig, X_test_orig, y_train_orig, y_test_orig = train_test_split(X_data, y_data, train_size=0.70)\n",
    "X_test_orig, X_valid_orig, y_test_orig, y_valid_orig = train_test_split(X_test_orig, y_test_orig, train_size=0.50)\n",
    "\n",
    "\n",
    "X_train_sg, X_test_sg, y_train_sg, y_test_sg = train_test_split(X_sg, y_data, train_size=0.70)\n",
    "X_test_sg, X_valid_sg, y_test_sg, y_valid_sg = train_test_split(X_test_sg, y_test_sg, train_size=0.50)\n"
   ]
  },
  {
   "cell_type": "code",
   "execution_count": 7,
   "metadata": {},
   "outputs": [],
   "source": [
    "BATCH_SIZE=16\n",
    "\n",
    "train_sg_ds = tf.data.Dataset.from_tensor_slices((X_train_sg, y_train_sg)).batch(BATCH_SIZE)\n",
    "valid_sg_ds = tf.data.Dataset.from_tensor_slices((X_test_sg, y_test_sg)).batch(BATCH_SIZE)\n",
    "test_sg_ds = tf.data.Dataset.from_tensor_slices((X_valid_sg, y_valid_sg)).batch(BATCH_SIZE)\n",
    "\n",
    "train_orig_ds = tf.data.Dataset.from_tensor_slices((X_train_orig, y_train_orig)).batch(BATCH_SIZE)\n",
    "valid_orig_ds = tf.data.Dataset.from_tensor_slices((X_test_orig, y_test_orig)).batch(BATCH_SIZE)\n",
    "test_orig_ds = tf.data.Dataset.from_tensor_slices((X_valid_orig, y_valid_orig)).batch(BATCH_SIZE)"
   ]
  },
  {
   "cell_type": "markdown",
   "metadata": {},
   "source": [
    "## Models"
   ]
  },
  {
   "cell_type": "code",
   "execution_count": 8,
   "metadata": {},
   "outputs": [],
   "source": [
    "def show_performance(y_true, y_pred):\n",
    "    r2 = r2_score(y_true, y_pred)\n",
    "    mse = mean_squared_error(y_true, y_pred)\n",
    "    print(f\"Overall:\\tR2={r2:.2f}\\tMSE={mse:.2f}\")\n",
    "\n",
    "    for i in range(8):\n",
    "        r2 = r2_score(y_true[:, i], y_pred[:, i])\n",
    "        mse = mean_squared_error(y_true[:, i], y_pred[:, i])\n",
    "        print(f\"{y_columns[i]}:\\tR2={r2:.2f}\\tMSE={mse:.2f}\")\n"
   ]
  },
  {
   "cell_type": "markdown",
   "metadata": {},
   "source": [
    "### MLP"
   ]
  },
  {
   "cell_type": "code",
   "execution_count": 9,
   "metadata": {},
   "outputs": [],
   "source": [
    "normalizer = tf.keras.layers.Normalization(axis=-1)\n",
    "normalizer.adapt(X_train_sg)\n",
    "\n",
    "model = tf.keras.models.Sequential([\n",
    "    tf.keras.layers.Flatten(input_shape=(216, 1)),\n",
    "    normalizer,\n",
    "\n",
    "    tf.keras.layers.Dense(512, activation=\"relu\"),\n",
    "    tf.keras.layers.Dropout(0.1),\n",
    "\n",
    "    tf.keras.layers.Dense(256, activation=\"relu\"),\n",
    "    tf.keras.layers.Dropout(0.1),\n",
    "\n",
    "    tf.keras.layers.Dense(128, activation=\"relu\"),\n",
    "    tf.keras.layers.Dropout(0.1),\n",
    "\n",
    "    tf.keras.layers.Dense(64, activation=\"relu\"),\n",
    "    tf.keras.layers.Dropout(0.1),\n",
    "\n",
    "    tf.keras.layers.Dense(32, activation=\"relu\"),\n",
    "    tf.keras.layers.Dropout(0.1),\n",
    "\n",
    "    tf.keras.layers.Dense(16, activation=\"relu\"),\n",
    "    tf.keras.layers.Dropout(0.1),\n",
    "\n",
    "    tf.keras.layers.Dense(8, activation=None)\n",
    "])\n"
   ]
  },
  {
   "cell_type": "code",
   "execution_count": 10,
   "metadata": {},
   "outputs": [
    {
     "name": "stdout",
     "output_type": "stream",
     "text": [
      "Model: \"sequential\"\n",
      "_________________________________________________________________\n",
      " Layer (type)                Output Shape              Param #   \n",
      "=================================================================\n",
      " flatten (Flatten)           (None, 216)               0         \n",
      "                                                                 \n",
      " normalization (Normalizatio  (None, 216)              433       \n",
      " n)                                                              \n",
      "                                                                 \n",
      " dense (Dense)               (None, 512)               111104    \n",
      "                                                                 \n",
      " dropout (Dropout)           (None, 512)               0         \n",
      "                                                                 \n",
      " dense_1 (Dense)             (None, 256)               131328    \n",
      "                                                                 \n",
      " dropout_1 (Dropout)         (None, 256)               0         \n",
      "                                                                 \n",
      " dense_2 (Dense)             (None, 128)               32896     \n",
      "                                                                 \n",
      " dropout_2 (Dropout)         (None, 128)               0         \n",
      "                                                                 \n",
      " dense_3 (Dense)             (None, 64)                8256      \n",
      "                                                                 \n",
      " dropout_3 (Dropout)         (None, 64)                0         \n",
      "                                                                 \n",
      " dense_4 (Dense)             (None, 32)                2080      \n",
      "                                                                 \n",
      " dropout_4 (Dropout)         (None, 32)                0         \n",
      "                                                                 \n",
      " dense_5 (Dense)             (None, 16)                528       \n",
      "                                                                 \n",
      " dropout_5 (Dropout)         (None, 16)                0         \n",
      "                                                                 \n",
      " dense_6 (Dense)             (None, 8)                 136       \n",
      "                                                                 \n",
      "=================================================================\n",
      "Total params: 286,761\n",
      "Trainable params: 286,328\n",
      "Non-trainable params: 433\n",
      "_________________________________________________________________\n"
     ]
    }
   ],
   "source": [
    "model.compile(optimizer=\"rmsprop\", loss=\"mean_squared_error\", metrics=[tfa.metrics.RSquare()])\n",
    "model.summary()\n"
   ]
  },
  {
   "cell_type": "code",
   "execution_count": 11,
   "metadata": {},
   "outputs": [
    {
     "name": "stdout",
     "output_type": "stream",
     "text": [
      "Epoch 1/50\n"
     ]
    },
    {
     "ename": "ValueError",
     "evalue": "in user code:\n\n    File \"c:\\Users\\harsh\\mambaforge\\lib\\site-packages\\keras\\engine\\training.py\", line 1249, in train_function  *\n        return step_function(self, iterator)\n    File \"c:\\Users\\harsh\\mambaforge\\lib\\site-packages\\keras\\engine\\training.py\", line 1233, in step_function  **\n        outputs = model.distribute_strategy.run(run_step, args=(data,))\n    File \"c:\\Users\\harsh\\mambaforge\\lib\\site-packages\\keras\\engine\\training.py\", line 1222, in run_step  **\n        outputs = model.train_step(data)\n    File \"c:\\Users\\harsh\\mambaforge\\lib\\site-packages\\keras\\engine\\training.py\", line 1024, in train_step\n        loss = self.compute_loss(x, y, y_pred, sample_weight)\n    File \"c:\\Users\\harsh\\mambaforge\\lib\\site-packages\\keras\\engine\\training.py\", line 1082, in compute_loss\n        return self.compiled_loss(\n    File \"c:\\Users\\harsh\\mambaforge\\lib\\site-packages\\keras\\engine\\compile_utils.py\", line 265, in __call__\n        loss_value = loss_obj(y_t, y_p, sample_weight=sw)\n    File \"c:\\Users\\harsh\\mambaforge\\lib\\site-packages\\keras\\losses.py\", line 152, in __call__\n        losses = call_fn(y_true, y_pred)\n    File \"c:\\Users\\harsh\\mambaforge\\lib\\site-packages\\keras\\losses.py\", line 284, in call  **\n        return ag_fn(y_true, y_pred, **self._fn_kwargs)\n    File \"c:\\Users\\harsh\\mambaforge\\lib\\site-packages\\keras\\losses.py\", line 1500, in mean_squared_error\n        return backend.mean(tf.math.squared_difference(y_pred, y_true), axis=-1)\n\n    ValueError: Dimensions must be equal, but are 8 and 20 for '{{node mean_squared_error/SquaredDifference}} = SquaredDifference[T=DT_FLOAT](sequential/dense_6/BiasAdd, Cast)' with input shapes: [?,8], [?,20].\n",
     "output_type": "error",
     "traceback": [
      "\u001b[1;31m---------------------------------------------------------------------------\u001b[0m",
      "\u001b[1;31mValueError\u001b[0m                                Traceback (most recent call last)",
      "\u001b[1;32mc:\\MRU\\5 - SEM\\ANN\\Project\\Soil Project\\03b_dl_models.ipynb Cell 15\u001b[0m in \u001b[0;36m<cell line: 1>\u001b[1;34m()\u001b[0m\n\u001b[1;32m----> <a href='vscode-notebook-cell:/c%3A/MRU/5%20-%20SEM/ANN/Project/Soil%20Project/03b_dl_models.ipynb#X20sZmlsZQ%3D%3D?line=0'>1</a>\u001b[0m history \u001b[39m=\u001b[39m model\u001b[39m.\u001b[39;49mfit(\n\u001b[0;32m      <a href='vscode-notebook-cell:/c%3A/MRU/5%20-%20SEM/ANN/Project/Soil%20Project/03b_dl_models.ipynb#X20sZmlsZQ%3D%3D?line=1'>2</a>\u001b[0m     train_sg_ds,\n\u001b[0;32m      <a href='vscode-notebook-cell:/c%3A/MRU/5%20-%20SEM/ANN/Project/Soil%20Project/03b_dl_models.ipynb#X20sZmlsZQ%3D%3D?line=2'>3</a>\u001b[0m     epochs\u001b[39m=\u001b[39;49m\u001b[39m50\u001b[39;49m,\n\u001b[0;32m      <a href='vscode-notebook-cell:/c%3A/MRU/5%20-%20SEM/ANN/Project/Soil%20Project/03b_dl_models.ipynb#X20sZmlsZQ%3D%3D?line=3'>4</a>\u001b[0m     validation_data\u001b[39m=\u001b[39;49mvalid_sg_ds,\n\u001b[0;32m      <a href='vscode-notebook-cell:/c%3A/MRU/5%20-%20SEM/ANN/Project/Soil%20Project/03b_dl_models.ipynb#X20sZmlsZQ%3D%3D?line=4'>5</a>\u001b[0m     shuffle\u001b[39m=\u001b[39;49m\u001b[39m1\u001b[39;49m,\n\u001b[0;32m      <a href='vscode-notebook-cell:/c%3A/MRU/5%20-%20SEM/ANN/Project/Soil%20Project/03b_dl_models.ipynb#X20sZmlsZQ%3D%3D?line=5'>6</a>\u001b[0m     verbose\u001b[39m=\u001b[39;49m\u001b[39m1\u001b[39;49m\n\u001b[0;32m      <a href='vscode-notebook-cell:/c%3A/MRU/5%20-%20SEM/ANN/Project/Soil%20Project/03b_dl_models.ipynb#X20sZmlsZQ%3D%3D?line=6'>7</a>\u001b[0m )\n",
      "File \u001b[1;32mc:\\Users\\harsh\\mambaforge\\lib\\site-packages\\keras\\utils\\traceback_utils.py:70\u001b[0m, in \u001b[0;36mfilter_traceback.<locals>.error_handler\u001b[1;34m(*args, **kwargs)\u001b[0m\n\u001b[0;32m     67\u001b[0m     filtered_tb \u001b[39m=\u001b[39m _process_traceback_frames(e\u001b[39m.\u001b[39m__traceback__)\n\u001b[0;32m     68\u001b[0m     \u001b[39m# To get the full stack trace, call:\u001b[39;00m\n\u001b[0;32m     69\u001b[0m     \u001b[39m# `tf.debugging.disable_traceback_filtering()`\u001b[39;00m\n\u001b[1;32m---> 70\u001b[0m     \u001b[39mraise\u001b[39;00m e\u001b[39m.\u001b[39mwith_traceback(filtered_tb) \u001b[39mfrom\u001b[39;00m \u001b[39mNone\u001b[39m\n\u001b[0;32m     71\u001b[0m \u001b[39mfinally\u001b[39;00m:\n\u001b[0;32m     72\u001b[0m     \u001b[39mdel\u001b[39;00m filtered_tb\n",
      "File \u001b[1;32m~\\AppData\\Local\\Temp\\__autograph_generated_filem702qdv7.py:15\u001b[0m, in \u001b[0;36mouter_factory.<locals>.inner_factory.<locals>.tf__train_function\u001b[1;34m(iterator)\u001b[0m\n\u001b[0;32m     13\u001b[0m \u001b[39mtry\u001b[39;00m:\n\u001b[0;32m     14\u001b[0m     do_return \u001b[39m=\u001b[39m \u001b[39mTrue\u001b[39;00m\n\u001b[1;32m---> 15\u001b[0m     retval_ \u001b[39m=\u001b[39m ag__\u001b[39m.\u001b[39mconverted_call(ag__\u001b[39m.\u001b[39mld(step_function), (ag__\u001b[39m.\u001b[39mld(\u001b[39mself\u001b[39m), ag__\u001b[39m.\u001b[39mld(iterator)), \u001b[39mNone\u001b[39;00m, fscope)\n\u001b[0;32m     16\u001b[0m \u001b[39mexcept\u001b[39;00m:\n\u001b[0;32m     17\u001b[0m     do_return \u001b[39m=\u001b[39m \u001b[39mFalse\u001b[39;00m\n",
      "\u001b[1;31mValueError\u001b[0m: in user code:\n\n    File \"c:\\Users\\harsh\\mambaforge\\lib\\site-packages\\keras\\engine\\training.py\", line 1249, in train_function  *\n        return step_function(self, iterator)\n    File \"c:\\Users\\harsh\\mambaforge\\lib\\site-packages\\keras\\engine\\training.py\", line 1233, in step_function  **\n        outputs = model.distribute_strategy.run(run_step, args=(data,))\n    File \"c:\\Users\\harsh\\mambaforge\\lib\\site-packages\\keras\\engine\\training.py\", line 1222, in run_step  **\n        outputs = model.train_step(data)\n    File \"c:\\Users\\harsh\\mambaforge\\lib\\site-packages\\keras\\engine\\training.py\", line 1024, in train_step\n        loss = self.compute_loss(x, y, y_pred, sample_weight)\n    File \"c:\\Users\\harsh\\mambaforge\\lib\\site-packages\\keras\\engine\\training.py\", line 1082, in compute_loss\n        return self.compiled_loss(\n    File \"c:\\Users\\harsh\\mambaforge\\lib\\site-packages\\keras\\engine\\compile_utils.py\", line 265, in __call__\n        loss_value = loss_obj(y_t, y_p, sample_weight=sw)\n    File \"c:\\Users\\harsh\\mambaforge\\lib\\site-packages\\keras\\losses.py\", line 152, in __call__\n        losses = call_fn(y_true, y_pred)\n    File \"c:\\Users\\harsh\\mambaforge\\lib\\site-packages\\keras\\losses.py\", line 284, in call  **\n        return ag_fn(y_true, y_pred, **self._fn_kwargs)\n    File \"c:\\Users\\harsh\\mambaforge\\lib\\site-packages\\keras\\losses.py\", line 1500, in mean_squared_error\n        return backend.mean(tf.math.squared_difference(y_pred, y_true), axis=-1)\n\n    ValueError: Dimensions must be equal, but are 8 and 20 for '{{node mean_squared_error/SquaredDifference}} = SquaredDifference[T=DT_FLOAT](sequential/dense_6/BiasAdd, Cast)' with input shapes: [?,8], [?,20].\n"
     ]
    }
   ],
   "source": [
    "history = model.fit(\n",
    "    train_sg_ds,\n",
    "    epochs=50,\n",
    "    validation_data=valid_sg_ds,\n",
    "    shuffle=1,\n",
    "    verbose=1\n",
    ")"
   ]
  },
  {
   "cell_type": "code",
   "execution_count": 12,
   "metadata": {},
   "outputs": [
    {
     "ename": "NameError",
     "evalue": "name 'history' is not defined",
     "output_type": "error",
     "traceback": [
      "\u001b[1;31m---------------------------------------------------------------------------\u001b[0m",
      "\u001b[1;31mNameError\u001b[0m                                 Traceback (most recent call last)",
      "\u001b[1;32mc:\\MRU\\5 - SEM\\ANN\\Project\\Soil Project\\03b_dl_models.ipynb Cell 16\u001b[0m in \u001b[0;36m<cell line: 4>\u001b[1;34m()\u001b[0m\n\u001b[0;32m      <a href='vscode-notebook-cell:/c%3A/MRU/5%20-%20SEM/ANN/Project/Soil%20Project/03b_dl_models.ipynb#X21sZmlsZQ%3D%3D?line=0'>1</a>\u001b[0m plt\u001b[39m.\u001b[39mfigure(figsize\u001b[39m=\u001b[39m(\u001b[39m12\u001b[39m, \u001b[39m8\u001b[39m))\n\u001b[0;32m      <a href='vscode-notebook-cell:/c%3A/MRU/5%20-%20SEM/ANN/Project/Soil%20Project/03b_dl_models.ipynb#X21sZmlsZQ%3D%3D?line=2'>3</a>\u001b[0m plt\u001b[39m.\u001b[39msubplot(\u001b[39m2\u001b[39m, \u001b[39m2\u001b[39m, \u001b[39m1\u001b[39m)\n\u001b[1;32m----> <a href='vscode-notebook-cell:/c%3A/MRU/5%20-%20SEM/ANN/Project/Soil%20Project/03b_dl_models.ipynb#X21sZmlsZQ%3D%3D?line=3'>4</a>\u001b[0m plt\u001b[39m.\u001b[39mplot(np\u001b[39m.\u001b[39marange(\u001b[39m50\u001b[39m), history\u001b[39m.\u001b[39mhistory[\u001b[39m'\u001b[39m\u001b[39mloss\u001b[39m\u001b[39m'\u001b[39m], label\u001b[39m=\u001b[39m\u001b[39m'\u001b[39m\u001b[39mTraining Loss\u001b[39m\u001b[39m'\u001b[39m)\n\u001b[0;32m      <a href='vscode-notebook-cell:/c%3A/MRU/5%20-%20SEM/ANN/Project/Soil%20Project/03b_dl_models.ipynb#X21sZmlsZQ%3D%3D?line=4'>5</a>\u001b[0m plt\u001b[39m.\u001b[39mplot(np\u001b[39m.\u001b[39marange(\u001b[39m50\u001b[39m), history\u001b[39m.\u001b[39mhistory[\u001b[39m'\u001b[39m\u001b[39mval_loss\u001b[39m\u001b[39m'\u001b[39m], label\u001b[39m=\u001b[39m\u001b[39m'\u001b[39m\u001b[39mValidation Loss\u001b[39m\u001b[39m'\u001b[39m)\n\u001b[0;32m      <a href='vscode-notebook-cell:/c%3A/MRU/5%20-%20SEM/ANN/Project/Soil%20Project/03b_dl_models.ipynb#X21sZmlsZQ%3D%3D?line=5'>6</a>\u001b[0m plt\u001b[39m.\u001b[39mlegend()\n",
      "\u001b[1;31mNameError\u001b[0m: name 'history' is not defined"
     ]
    },
    {
     "data": {
      "image/png": "[encoded data removed]",
      "text/plain": [
       "<Figure size 1200x800 with 1 Axes>"
      ]
     },
     "metadata": {},
     "output_type": "display_data"
    }
   ],
   "source": [
    "plt.figure(figsize=(12, 8))\n",
    "\n",
    "plt.subplot(2, 2, 1)\n",
    "plt.plot(np.arange(50), history.history['loss'], label='Training Loss')\n",
    "plt.plot(np.arange(50), history.history['val_loss'], label='Validation Loss')\n",
    "plt.legend()\n",
    "plt.grid()\n",
    "plt.title('Loss evolution')\n",
    "\n",
    "plt.subplot(2, 2, 2)\n",
    "plt.plot(np.arange(50)[5:], history.history['r_square'][5:], label='Training $R^2$')\n",
    "plt.plot(np.arange(50)[5:], history.history['val_r_square'][5:], label='Validation $R^2$')\n",
    "plt.legend()\n",
    "plt.grid()\n",
    "plt.title('$R^2$ Evolution')\n",
    "\n",
    "plt.show()"
   ]
  },
  {
   "cell_type": "code",
   "execution_count": null,
   "metadata": {},
   "outputs": [
    {
     "name": "stdout",
     "output_type": "stream",
     "text": [
      "17/17 [==============================] - 0s 5ms/step\n",
      "Overall:\tR2=0.43\tMSE=23.50\n",
      "PHH2O:\tR2=0.57\tMSE=0.87\n",
      "PHKCL:\tR2=0.53\tMSE=0.80\n",
      "CA:\tR2=0.72\tMSE=80.02\n",
      "MG:\tR2=0.65\tMSE=8.09\n",
      "NA:\tR2=0.10\tMSE=2.95\n",
      "K:\tR2=0.12\tMSE=0.25\n",
      "CLAY:\tR2=0.82\tMSE=92.80\n",
      "ORGC:\tR2=-0.07\tMSE=2.23\n"
     ]
    }
   ],
   "source": [
    "y_pred = model.predict(X_test_sg)\n",
    "\n",
    "show_performance(y_test_sg, y_pred)"
   ]
  },
  {
   "cell_type": "markdown",
   "metadata": {},
   "source": [
    "### CNN ( No Preprocessing)"
   ]
  },
  {
   "cell_type": "code",
   "execution_count": null,
   "metadata": {},
   "outputs": [],
   "source": [
    "normalizer = tf.keras.layers.Normalization(axis=-1)\n",
    "normalizer.adapt(X_train_orig)\n",
    "\n",
    "model = tf.keras.models.Sequential([\n",
    "    # tf.keras.layers.Flatten(input_shape=(216, 1)),\n",
    "    tf.keras.layers.Input(shape=(216, 1)),\n",
    "    normalizer,\n",
    "\n",
    "    tf.keras.layers.Conv1D(filters=512, kernel_size=4, strides=2, activation=\"relu\"),\n",
    "    tf.keras.layers.MaxPool1D(pool_size=2, strides=1),\n",
    "\n",
    "    tf.keras.layers.Conv1D(filters=256, kernel_size=4, strides=2, activation=\"relu\"),\n",
    "    tf.keras.layers.MaxPool1D(pool_size=2, strides=1),\n",
    "\n",
    "    tf.keras.layers.Conv1D(filters=128, kernel_size=4, strides=2, activation=\"relu\"),\n",
    "    tf.keras.layers.MaxPool1D(pool_size=2, strides=1),\n",
    "\n",
    "    tf.keras.layers.Conv1D(filters=64, kernel_size=4, strides=2, activation=\"relu\"),\n",
    "    tf.keras.layers.MaxPool1D(pool_size=2, strides=1),\n",
    "\n",
    "    tf.keras.layers.Conv1D(filters=32, kernel_size=4, strides=2, activation=\"relu\"),\n",
    "    tf.keras.layers.MaxPool1D(pool_size=2, strides=1),\n",
    "\n",
    "    tf.keras.layers.Flatten(),\n",
    "    tf.keras.layers.Dense(32, activation=\"relu\"),\n",
    "    tf.keras.layers.Dropout(0.1),\n",
    "    tf.keras.layers.Dense(16, activation=\"relu\"),\n",
    "    tf.keras.layers.Dropout(0.1),\n",
    "    tf.keras.layers.Dense(8, activation=None)\n",
    "])\n"
   ]
  },
  {
   "cell_type": "code",
   "execution_count": null,
   "metadata": {},
   "outputs": [],
   "source": [
    "model.compile(optimizer=\"rmsprop\", loss=\"mean_squared_error\", metrics=[tfa.metrics.RSquare()])\n",
    "model.summary()\n"
   ]
  },
  {
   "cell_type": "code",
   "execution_count": null,
   "metadata": {},
   "outputs": [],
   "source": [
    "history = model.fit(\n",
    "    train_orig_ds,\n",
    "    epochs=50,\n",
    "    validation_data=valid_orig_ds,\n",
    "    shuffle=1,\n",
    "    verbose=1\n",
    ")"
   ]
  },
  {
   "cell_type": "code",
   "execution_count": null,
   "metadata": {},
   "outputs": [],
   "source": [
    "plt.figure(figsize=(12, 8))\n",
    "\n",
    "plt.subplot(2, 2, 1)\n",
    "plt.plot(np.arange(50), history.history['loss'], label='Loss')\n",
    "plt.plot(np.arange(50), history.history['val_loss'], label='Validation Loass')\n",
    "plt.legend()\n",
    "plt.grid()\n",
    "plt.title('Loss evolution')\n",
    "\n",
    "plt.subplot(2, 2, 2)\n",
    "plt.plot(np.arange(50)[5:], history.history['r_square'][5:], label='$R^2$')\n",
    "plt.plot(np.arange(50)[5:], history.history['val_r_square'][5:], label='Validation $R^2$')\n",
    "plt.legend()\n",
    "plt.grid()\n",
    "plt.title('$R^2$ Evolution')\n",
    "\n",
    "plt.show()"
   ]
  },
  {
   "cell_type": "code",
   "execution_count": null,
   "metadata": {},
   "outputs": [],
   "source": [
    "y_pred = model.predict(X_test_orig)\n",
    "\n",
    "show_performance(y_test_orig, y_pred)"
   ]
  }
 ],
 "metadata": {
  "kernelspec": {
   "display_name": "Python 3 (ipykernel)",
   "language": "python",
   "name": "python3"
  },
  "language_info": {
   "codemirror_mode": {
    "name": "ipython",
    "version": 3
   },
   "file_extension": ".py",
   "mimetype": "text/x-python",
   "name": "python",
   "nbconvert_exporter": "python",
   "pygments_lexer": "ipython3",
   "version": "3.10.6"
  },
  "vscode": {
   "interpreter": {
    "hash": "2e32956259d3207c6a5bbe7c73d5344a21b07fc54d5a3311887eef657f84361b"
   }
  }
 },
 "nbformat": 4,
 "nbformat_minor": 4
}
