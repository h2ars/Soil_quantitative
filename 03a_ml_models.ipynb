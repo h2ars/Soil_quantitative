{
 "cells": [
  {
   "cell_type": "markdown",
   "metadata": {
    "jp-MarkdownHeadingCollapsed": true,
    "tags": []
   },
   "source": [
    "## Setup\n"
   ]
  },
  {
   "cell_type": "code",
   "execution_count": 2,
   "metadata": {},
   "outputs": [],
   "source": [
    "import matplotlib.pyplot as plt\n",
    "import numpy as np\n",
    "from sklearn.cross_decomposition import PLSRegression\n",
    "from sklearn.ensemble import RandomForestRegressor\n",
    "from sklearn.metrics import mean_squared_error, r2_score\n",
    "from sklearn.model_selection import train_test_split\n",
    "from xgboost import XGBRegressor\n",
    "from sklearn.decomposition import PCA"
   ]
  },
  {
   "cell_type": "code",
   "execution_count": 3,
   "metadata": {},
   "outputs": [],
   "source": [
    "import warnings\n",
    "import logging\n",
    "\n",
    "logging.getLogger(\"tensorflow\").setLevel(logging.ERROR)\n",
    "warnings.filterwarnings('ignore')\n",
    "\n",
    "# %config IPCompleter.use_jedi = False\n",
    "%matplotlib inline\n",
    "\n",
    "np.set_printoptions(precision=2, suppress=True)\n",
    "plt.style.use(\"ggplot\")\n"
   ]
  },
  {
   "cell_type": "code",
   "execution_count": 4,
   "metadata": {},
   "outputs": [],
   "source": [
    "SEED = 2020_2024\n",
    "\n",
    "np.random.seed(SEED)\n"
   ]
  },
  {
   "cell_type": "markdown",
   "metadata": {},
   "source": [
    "## Loading Data\n"
   ]
  },
  {
   "cell_type": "code",
   "execution_count": 5,
   "metadata": {},
   "outputs": [],
   "source": [
    "X_data, X_sg, y_data, X_pca= np.load(\"combined_data.npz\").values()\n"
   ]
  },
  {
   "cell_type": "code",
   "execution_count": 6,
   "metadata": {},
   "outputs": [],
   "source": [
    "X_columns = [f\"W{x}\" for x in np.arange(350, 2501, 10)]\n",
    "y_columns = [\"PHH2O\", \"PHKCL\", \"CA\", \"MG\", \"NA\", \"K\", \"CLAY\", \"ORGC\"]\n"
   ]
  },
  {
   "cell_type": "code",
   "execution_count": 7,
   "metadata": {},
   "outputs": [],
   "source": [
    "X_train_orig, X_test_orig, y_train_orig, y_test_orig = train_test_split(X_data, y_data, train_size=0.70)\n",
    "X_test_orig, X_valid_orig, y_test_orig, y_valid_orig = train_test_split(X_test_orig, y_test_orig, train_size=0.50)\n",
    "\n",
    "\n",
    "X_train_sg, X_test_sg, y_train_sg, y_test_sg = train_test_split(X_sg, y_data, train_size=0.70)\n",
    "X_test_sg, X_valid_sg, y_test_sg, y_valid_sg = train_test_split(X_test_sg, y_test_sg, train_size=0.50)\n",
    "\n",
    "X_train_pca, X_test_pca, y_train_pca, y_test_pca = train_test_split(X_pca, y_data, train_size=0.70)\n",
    "X_test_pca, X_valid_pca, y_test_pca, y_valid_pca = train_test_split(X_test_pca, y_test_pca, train_size=0.50)"
   ]
  },
  {
   "cell_type": "markdown",
   "metadata": {},
   "source": [
    "## Models\n"
   ]
  },
  {
   "cell_type": "code",
   "execution_count": 8,
   "metadata": {},
   "outputs": [],
   "source": [
    "def show_performance(y_true, y_pred):\n",
    "    r2 = r2_score(y_true, y_pred)\n",
    "    mse = mean_squared_error(y_true, y_pred)\n",
    "    print(f\"Overall:\\tR2={r2:.2f}\\tMSE={mse:.2f}\")\n",
    "\n",
    "    for i in range(8):\n",
    "        r2 = r2_score(y_true[:, i], y_pred[:, i])\n",
    "        mse = mean_squared_error(y_true[:, i], y_pred[:, i])\n",
    "        print(f\"{y_columns[i]}:\\tR2={r2:.2f}\\tMSE={mse:.2f}\")\n"
   ]
  },
  {
   "cell_type": "markdown",
   "metadata": {},
   "source": [
    "### Random Forests\n"
   ]
  },
  {
   "cell_type": "code",
   "execution_count": 9,
   "metadata": {},
   "outputs": [
    {
     "name": "stdout",
     "output_type": "stream",
     "text": [
      "Overall:\tR2=0.43\tMSE=39.71\n",
      "PHH2O:\tR2=0.49\tMSE=1.05\n",
      "PHKCL:\tR2=0.43\tMSE=1.00\n",
      "CA:\tR2=0.45\tMSE=121.82\n",
      "MG:\tR2=0.56\tMSE=13.88\n",
      "NA:\tR2=0.31\tMSE=2.49\n",
      "K:\tR2=0.24\tMSE=0.19\n",
      "CLAY:\tR2=0.67\tMSE=172.60\n",
      "ORGC:\tR2=0.33\tMSE=4.67\n"
     ]
    }
   ],
   "source": [
    "model = RandomForestRegressor()\n",
    "model.fit(X_train_orig, y_train_orig)\n",
    "\n",
    "y_pred = model.predict(X_test_orig)\n",
    "show_performance(y_test_orig, y_pred)"
   ]
  },
  {
   "cell_type": "code",
   "execution_count": 10,
   "metadata": {},
   "outputs": [
    {
     "name": "stdout",
     "output_type": "stream",
     "text": [
      "Overall:\tR2=0.60\tMSE=30.57\n",
      "PHH2O:\tR2=0.73\tMSE=0.55\n",
      "PHKCL:\tR2=0.70\tMSE=0.51\n",
      "CA:\tR2=0.62\tMSE=109.39\n",
      "MG:\tR2=0.69\tMSE=7.12\n",
      "NA:\tR2=0.42\tMSE=1.90\n",
      "K:\tR2=0.32\tMSE=0.19\n",
      "CLAY:\tR2=0.76\tMSE=123.93\n",
      "ORGC:\tR2=0.54\tMSE=0.95\n"
     ]
    }
   ],
   "source": [
    "model = RandomForestRegressor()\n",
    "model.fit(X_train_sg, y_train_sg)\n",
    "\n",
    "y_pred = model.predict(X_test_sg)\n",
    "show_performance(y_test_sg, y_pred)\n"
   ]
  },
  {
   "cell_type": "code",
   "execution_count": 11,
   "metadata": {},
   "outputs": [
    {
     "name": "stdout",
     "output_type": "stream",
     "text": [
      "Overall:\tR2=0.54\tMSE=28.66\n",
      "PHH2O:\tR2=0.61\tMSE=0.77\n",
      "PHKCL:\tR2=0.58\tMSE=0.72\n",
      "CA:\tR2=0.69\tMSE=75.31\n",
      "MG:\tR2=0.51\tMSE=16.36\n",
      "NA:\tR2=0.44\tMSE=4.85\n",
      "K:\tR2=0.21\tMSE=0.21\n",
      "CLAY:\tR2=0.74\tMSE=129.74\n",
      "ORGC:\tR2=0.54\tMSE=1.33\n"
     ]
    }
   ],
   "source": [
    "model = RandomForestRegressor()\n",
    "model.fit(X_train_pca, y_train_pca)\n",
    "\n",
    "y_pred = model.predict(X_test_pca)\n",
    "show_performance(y_test_pca, y_pred)\n"
   ]
  },
  {
   "cell_type": "markdown",
   "metadata": {},
   "source": [
    "### PLSR\n"
   ]
  },
  {
   "cell_type": "code",
   "execution_count": 12,
   "metadata": {},
   "outputs": [
    {
     "name": "stdout",
     "output_type": "stream",
     "text": [
      "Overall:\tR2=0.48\tMSE=36.66\n",
      "PHH2O:\tR2=0.65\tMSE=0.71\n",
      "PHKCL:\tR2=0.60\tMSE=0.70\n",
      "CA:\tR2=0.52\tMSE=107.30\n",
      "MG:\tR2=0.56\tMSE=13.98\n",
      "NA:\tR2=0.27\tMSE=2.66\n",
      "K:\tR2=0.22\tMSE=0.20\n",
      "CLAY:\tR2=0.68\tMSE=163.01\n",
      "ORGC:\tR2=0.32\tMSE=4.70\n"
     ]
    }
   ],
   "source": [
    "model = PLSRegression(n_components=70)\n",
    "model.fit(X_train_orig, y_train_orig)\n",
    "\n",
    "y_pred = model.predict(X_test_orig)\n",
    "show_performance(y_test_orig, y_pred)\n"
   ]
  },
  {
   "cell_type": "code",
   "execution_count": 13,
   "metadata": {},
   "outputs": [
    {
     "name": "stdout",
     "output_type": "stream",
     "text": [
      "Overall:\tR2=0.46\tMSE=41.35\n",
      "PHH2O:\tR2=0.67\tMSE=0.67\n",
      "PHKCL:\tR2=0.62\tMSE=0.66\n",
      "CA:\tR2=0.54\tMSE=133.92\n",
      "MG:\tR2=0.52\tMSE=11.24\n",
      "NA:\tR2=0.08\tMSE=3.04\n",
      "K:\tR2=0.25\tMSE=0.21\n",
      "CLAY:\tR2=0.65\tMSE=179.73\n",
      "ORGC:\tR2=0.38\tMSE=1.30\n"
     ]
    }
   ],
   "source": [
    "model = PLSRegression(n_components=70)\n",
    "model.fit(X_train_sg, y_train_sg)\n",
    "\n",
    "y_pred = model.predict(X_test_sg)\n",
    "show_performance(y_test_sg, y_pred)\n"
   ]
  },
  {
   "cell_type": "code",
   "execution_count": 14,
   "metadata": {},
   "outputs": [
    {
     "name": "stdout",
     "output_type": "stream",
     "text": [
      "Overall:\tR2=0.37\tMSE=50.95\n",
      "PHH2O:\tR2=0.50\tMSE=0.99\n",
      "PHKCL:\tR2=0.43\tMSE=0.97\n",
      "CA:\tR2=0.52\tMSE=117.11\n",
      "MG:\tR2=0.35\tMSE=21.69\n",
      "NA:\tR2=0.11\tMSE=7.77\n",
      "K:\tR2=0.14\tMSE=0.23\n",
      "CLAY:\tR2=0.49\tMSE=256.98\n",
      "ORGC:\tR2=0.37\tMSE=1.83\n"
     ]
    }
   ],
   "source": [
    "model = PLSRegression(n_components=20)\n",
    "model.fit(X_train_pca, y_train_pca)\n",
    "\n",
    "y_pred = model.predict(X_test_pca)\n",
    "show_performance(y_test_pca, y_pred)\n"
   ]
  },
  {
   "cell_type": "markdown",
   "metadata": {},
   "source": [
    "### XGBoost\n"
   ]
  },
  {
   "cell_type": "code",
   "execution_count": 15,
   "metadata": {},
   "outputs": [],
   "source": [
    "import os\n",
    "os.environ[\"KMP_DUPLICATE_LIB_OK\"]=\"TRUE\""
   ]
  },
  {
   "cell_type": "code",
   "execution_count": 16,
   "metadata": {},
   "outputs": [
    {
     "ename": "",
     "evalue": "",
     "output_type": "error",
     "traceback": [
      "\u001b[1;31mCanceled future for execute_request message before replies were done"
     ]
    },
    {
     "ename": "",
     "evalue": "",
     "output_type": "error",
     "traceback": [
      "\u001b[1;31mThe Kernel crashed while executing code in the the current cell or a previous cell. Please review the code in the cell(s) to identify a possible cause of the failure. Click <a href='https://aka.ms/vscodeJupyterKernelCrash'>here</a> for more info. View Jupyter <a href='command:jupyter.viewOutput'>log</a> for further details."
     ]
    }
   ],
   "source": [
    "model = XGBRegressor()\n",
    "model.fit(X_train_orig, y_train_orig)\n",
    "\n",
    "y_pred = model.predict(X_test_orig)\n",
    "show_performance(y_test_orig, y_pred)\n"
   ]
  },
  {
   "cell_type": "code",
   "execution_count": null,
   "metadata": {},
   "outputs": [],
   "source": [
    "model = XGBRegressor()\n",
    "model.fit(X_train_sg, y_train_sg)\n",
    "\n",
    "y_pred = model.predict(X_test_sg)\n",
    "show_performance(y_test_sg, y_pred)"
   ]
  },
  {
   "cell_type": "code",
   "execution_count": null,
   "metadata": {},
   "outputs": [
    {
     "name": "stdout",
     "output_type": "stream",
     "text": [
      "Overall:\tR2=0.59\tMSE=27.77\n",
      "PHH2O:\tR2=0.69\tMSE=0.62\n",
      "PHKCL:\tR2=0.64\tMSE=0.63\n",
      "CA:\tR2=0.72\tMSE=67.57\n",
      "MG:\tR2=0.49\tMSE=16.91\n",
      "NA:\tR2=0.40\tMSE=5.24\n",
      "K:\tR2=0.31\tMSE=0.19\n",
      "CLAY:\tR2=0.74\tMSE=130.11\n",
      "ORGC:\tR2=0.70\tMSE=0.87\n"
     ]
    }
   ],
   "source": [
    "model = XGBRegressor()\n",
    "model.fit(X_train_pca, y_train_pca)\n",
    "\n",
    "y_pred = model.predict(X_test_pca)\n",
    "show_performance(y_test_pca, y_pred)\n"
   ]
  }
 ],
 "metadata": {
  "kernelspec": {
   "display_name": "Python 3.10.6 ('base')",
   "language": "python",
   "name": "python3"
  },
  "language_info": {
   "codemirror_mode": {
    "name": "ipython",
    "version": 3
   },
   "file_extension": ".py",
   "mimetype": "text/x-python",
   "name": "python",
   "nbconvert_exporter": "python",
   "pygments_lexer": "ipython3",
   "version": "3.10.6"
  },
  "vscode": {
   "interpreter": {
    "hash": "527ac8b705c68230d3111461871fe90421afef49c2a3b7c8263e857098f64daa"
   }
  }
 },
 "nbformat": 4,
 "nbformat_minor": 4
}
